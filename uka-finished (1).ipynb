{
 "cells": [
  {
   "cell_type": "markdown",
   "metadata": {},
   "source": [
    "<hr style=\"height:5px;border-width:2;color:gray;background-color:#000000\"> \n",
    "<center><h1>CS 144 - Spring 2021 - Linear-Time Construction of Suffix Trees</h1></center>\n",
    "<center><h1>Due: Sunday, June 6th, 2021 @ 11:59pm</h1></center>"
   ]
  },
  {
   "cell_type": "markdown",
   "metadata": {},
   "source": [
    "### Enter your information below:\n",
    "\n",
    "<div style=\"color: #000000;background-color: #EEEEFF\">\n",
    "    Your Name (submitter):  Robert Wyatt<br>\n",
    "    Your student ID (submitter):862134626\n",
    "<br>\n",
    "<br>\n",
    "<b>By submitting this notebook, I assert that the work below is my own work, completed for this course.  Except where explicitly cited, none of the portions of this notebook are duplicated from anyone else's work or my own previous work.</b>\n",
    "<br>    \n",
    "<br>\n",
    "<b>Instruction for submissions:</B> when you have completed this project, download this .ipynb file to your computer by left-clicking on the file name, and submit to <a href=\"https://elearn.ucr.edu/\">Canvas</A> by the deadline. \n",
    "<br>\n",
    "<br>\n",
    "<B>Late work:</B> There is no late deadline for the final project, except for the most serious circumstances (illness, medical emergency, etc.) which have to be documented.\n",
    "</div>\n"
   ]
  },
  {
   "cell_type": "markdown",
   "metadata": {},
   "source": [
    "<hr style=\"height:5px;border-width:2;color:gray;background-color:#000000\"> \n",
    "<center><h1>Ukkonen's algorithm</h1></center>\n",
    "<br>\n",
    "In this project you will implement the construction of suffix trees in linear-time using Ukkonen's algorithm. This algorithm was <B>not</B> explained in class. Part of this project is to understand how the algorithm works before starting the implementation. Here is some resources:\n",
    "<UL>\n",
    "    <li><A HREF=\"web.stanford.edu/~mjkay/gusfield.pdf\">Gufield's explanation</A> from his <A HREF=\"https://www.amazon.com/dp/0521585198\">book</A></li>\n",
    "    <li><A HREF=\"https://www.geeksforgeeks.org/ukkonens-suffix-tree-construction-part-1/\">GeeksforGeeks</A></li>\n",
    "    <li><A HREF=\"https://stackoverflow.com/questions/9452701/ukkonens-suffix-tree-algorithm-in-plain-english\">StackOverflow</A></li>\n",
    "    <li>There are several videos on YouTube, e.g., <A HREF=\"https://www.youtube.com/watch?v=aPRqocoBsFQ\">this one</A></li>\n",
    "    <li>Use <A HREF=\"https://www.google.com/search?q=ukkonen+algorithm\">Google</A> for more</li>\n",
    "</UL>\n",
    "\n",
    "Goals:\n",
    "<UL>\n",
    "    <LI>Write a working (bug-free) Python3 implementation of Ukkonen's algorithm in JupyterHub that runs in linear time</LI>\n",
    "    <LI>Make sure that your implementation is correct: compare the output of your implementation to the output for the O(n^2) implementation that we used in homework 2</LI>\n",
    "    <LI>Collect experimental results on running your code for larger and larger inputs, say 1000, 2000, 5000, 10000, 100000 symbols, and plot the running time as a function of the input size</LI>\n",
    "</UL>\n",
    "\n",
    "You are allowed to study C/C++ implementations of Ukkonen's algorithm, but you have to write your own Python code. It is mandatory to acknowledge sources.\n"
   ]
  },
  {
   "cell_type": "code",
   "execution_count": 107,
   "metadata": {},
   "outputs": [
    {
     "name": "stdout",
     "output_type": "stream",
     "text": [
      "began\n",
      "finished 0.782477617263794\n"
     ]
    }
   ],
   "source": [
    "# YOUR CODE HERE\n",
    "# no suffix tree libraries allowed\n",
    "\n",
    "#source: https://www.youtube.com/watch?v=aPRqocoBsFQ Suffix Tree using Ukkonen's algorithm, \n",
    "#Tushar Roy - Coding Made Simple\n",
    "\n",
    "import time\n",
    "class SuffixTree(object):\n",
    "    \n",
    "    def __init__(self, s):\n",
    "        self.root = self.Node(-2,-2)#-2 on the labels will denote a root node\n",
    "        ##Time to make our tree using the string s passed in\n",
    "        length = len(s) \n",
    "        activeEdge = -1 #active edge tracks the labS(start label, ie 0,1,2) of edge we are traversing. It is -1 if we are not traversing an edge\n",
    "        activeLength = 0 #how far along the active edge that we are traversing\n",
    "        activeNode = self.root #The node that we currently are at\n",
    "        remaining = 0 #tells us the remaining number of times that the while loop needs to repeate\n",
    "        \n",
    "        lastLink = self.root#LastLink is used to know the previous suffix link so that we can correctly link up our nodes\n",
    "        end = -1 #-1 is a false number used to represent the idea that the node is a leaf. The count of end at any given time is given by endcount\n",
    "        endCount = -1#tells at any given time what the actual value of a leaf node is. i.e 5,-1 means the leaf node has letters s[i]->s[endcount]\n",
    "        for i in range(0,length):\n",
    "            #print(\"----\",\"s[i] =\",s[i],remaining,activeLength)\n",
    "            remaining = remaining + 1\n",
    "            endCount = endCount + 1\n",
    "            lastLink = self.root\n",
    "            while remaining > 0:\n",
    "                \n",
    "                if activeLength == 0:#if active length == 0\n",
    "                    activeEdge = i#active point change for active lenght equals zero\n",
    "                   \n",
    "                if s[activeEdge] not in activeNode.out:#if the current node does not have s[i]\n",
    "                    #print(\"new leaf\",s[i],i,end)\n",
    "                    counter = 0\n",
    "                    \n",
    "                    activeNode.out[s[i]] = self.Node(i,end)\n",
    "                    remaining = remaining - 1\n",
    "                    if lastLink != self.root:\n",
    "                        lastLink.link = activeNode\n",
    "                        lastLink == self.root\n",
    "                    activeNode = activeNode.link#seems to fix it\n",
    "                    \n",
    "                    \n",
    "                else:          \n",
    "                    tempEndConverter = 0\n",
    "                    if activeNode.out[s[activeEdge]].labE == -1:\n",
    "                        tempEndConverter= endCount\n",
    "                    else:\n",
    "                        tempEndConverter = activeNode.out[s[activeEdge]].labE\n",
    "                        \n",
    "                    if tempEndConverter - activeNode.out[s[activeEdge]].labS + 1 <= activeLength:\n",
    "                        #print(\"**past an edge test.\",\"labE =\",tempEndConverter,\",labS =\",activeNode.out[s[activeEdge]].labS,\",activeLenght =\",activeLength,\",s[activeEdge] = \",s[activeEdge],\"remaining = \", remaining,\"activeEdge = \",activeEdge)\n",
    "                        activeNode = activeNode.out[s[activeEdge]]\n",
    "                        activeEdge = activeEdge + (tempEndConverter - activeNode.labS+1)\n",
    "                        activeLength = activeLength - (tempEndConverter - activeNode.labS+1)\n",
    "                        #activeNode = activeNode.out[s[activeEdge]]\n",
    "                        continue\n",
    "                   \n",
    "                    if  s[activeLength + activeNode.out[s[activeEdge]].labS] == s[i]: #activates if the edge that we are traversing has s[i]\n",
    "                        #print(\"short stop\",\"s[labs + activeLenght] =\",s[activeNode.out[s[activeEdge]].labS + activeLength],\",labs + activeLenght = \",activeNode.out[s[activeEdge]].labS + activeLength,\"activeLenght = \",activeLength)\n",
    "                        if lastLink != self.root and activeNode != self.root:\n",
    "                            lastLink.link = activeNode\n",
    "                            lastLink = self.root\n",
    "                        activeLength = activeLength + 1\n",
    "                        break\n",
    "\n",
    "                    #newP = self.Node(activeNode.out[s[activeEdge]].labS,activeNode.out[s[activeEdge]].labS + activeLength-1)#new parent, goes from labS(start of origional edge)->labS+activelength-1\n",
    "                    newP = self.Node(activeNode.out[s[activeEdge]].labS, activeNode.out[s[activeEdge]].labS + activeLength-1)\n",
    "                    #c1 = self.Node(activeNode.out[s[activeEdge]].labS + activeLength, activeNode.out[s[activeEdge]].labE)#non-leaf child, goes from labS+activelength->labE(end of og edge)\n",
    "                    c1 = self.Node(activeNode.out[s[activeEdge]].labS + activeLength, activeNode.out[s[activeEdge]].labE)\n",
    "                    c1.out = activeNode.out[s[activeEdge]].out\n",
    "                    c1.link = activeNode.out[s[activeEdge]].link\n",
    "                    c2 = self.Node(i,end)#leaf child, goes from i->end\n",
    "                    \n",
    "                    #print(\"activeLenght is > 0 test, node splits into\",\"newP:\",activeNode.out[s[activeEdge]].labS,activeNode.out[s[activeEdge]].labS+\n",
    "                                 #activeLength-1,\"c1:\",activeNode.out[s[activeEdge]].labS + activeLength,activeNode.out[s[activeEdge]].labE,\"c2:\",i,end,\n",
    "                                 #\"activeLength =\",activeLength)\n",
    "                            \n",
    "\n",
    "                    newP.out[s[c1.labS]] = c1#these two lines gives the new parent it's 2 children\n",
    "                    newP.out[s[c2.labS]] = c2\n",
    "                    activeNode.out[s[activeEdge]] = newP#overwrites the old edge with the new parent\n",
    "                    newP.link = self.root#sets newP's link to the root\n",
    "                    if lastLink != self.root: \n",
    "                        lastLink.link = newP # if the lastLink was not the root \n",
    "                    lastLink = newP\n",
    "                    remaining = remaining - 1\n",
    "                    if activeNode != self.root:\n",
    "                        activeNode = activeNode.link\n",
    "                    else:\n",
    "                        activeLength = activeLength-1\n",
    "                        activeEdge = i-remaining +1\n",
    "                        \n",
    "\n",
    "\n",
    "    def longestRepeat(self,inputString):\n",
    "        global longest\n",
    "        longest = ''\n",
    "        self.root.longestRepeat('',0,inputString)\n",
    "        return longest\n",
    "    \n",
    "    def traverse(self,s):\n",
    "        return self.root.traverse(0,s)  \n",
    "                \n",
    "    class Node(object):\n",
    "        def __init__(self, labS, labE):\n",
    "            self.labS = labS # label on path leading to this node\n",
    "            self.labE = labE\n",
    "            self.out = {}  # outgoing edges; maps characters to nodes\n",
    "            self.link = self # makes a suffix link; sets it to itself\n",
    "            \n",
    "        def traverse(self, level,s):\n",
    "            for x in self.out:          # x is the first letter of the outgoing edge, if self.out=={} we are in a leaf and the for loop is not executed\n",
    "                child = self.out[x]     # out[x] gives the pointer to the children with an edge that starts with x\n",
    "                #print(\"incoming label:\",x)\n",
    "                #print(level,child.labS,child.labE)\n",
    "                print(\"-------\")\n",
    "                if child.labS == child.labE:\n",
    "                    print(level,s[child.labS])\n",
    "                elif child.labE == -1:\n",
    "                    print(level,s[child.labS:len(s)])\n",
    "                else:\n",
    "                    print(level,s[child.labS:child.labE+1],child.labS,child.labE)\n",
    "                    #print(level,s[child.labS:child.labE],child.labS,child.labE)\n",
    "                child.traverse(level+1,s) # visit recursively the child\n",
    "                \n",
    "        def longestRepeat(self,s,level,inputString):\n",
    "            \"\"\" Returns the longest repeated string by finding the internal node in the suffix\n",
    "                tree that corresponds to the longest string from the root\"\"\"\n",
    "            global longest\n",
    "            level += 1\n",
    "            if len(s) > len(longest):\n",
    "                longest = s\n",
    "            for x in self.out:          # x is the first letter of the outgoing edge, if self.out=={} we are in a leaf and the for loop is not executed\n",
    "                \n",
    "                child = self.out[x]     # out[x] gives the pointer to the children with an edge that starts with x\n",
    "                if level == 1:\n",
    "                    child.longestRepeat('',level+1,inputString)# visit recursively the child\n",
    "                else:\n",
    "                    child.longestRepeat(s+inputString[self.labS:self.labE+1],level+1,inputString)\n",
    "            \n",
    "\n",
    "print(\"began\")\n",
    "start = time.time()\n",
    "#reader = open(\"1000 word tree.txt\",\"r\")\n",
    "#reader = open(\"2000 word tree.txt\",\"r\")\n",
    "#reader = open(\"5000 word tree.txt\",\"r\")\n",
    "#reader = open(\"10000 word tree.txt\",\"r\")\n",
    "reader = open(\"100000 word tree.txt\",\"r\")\n",
    "stree = SuffixTree(reader.readline())\n",
    "#instring = reader.readline()+\"$\"\n",
    "#stree = SuffixTree(instring)\n",
    "\n",
    "\n",
    "\n",
    "print(\"finished\",time.time()-start)\n"
   ]
  },
  {
   "cell_type": "code",
   "execution_count": 103,
   "metadata": {},
   "outputs": [
    {
     "data": {
      "text/plain": [
       "'AAAA'"
      ]
     },
     "execution_count": 103,
     "metadata": {},
     "output_type": "execute_result"
    }
   ],
   "source": [
    "stree = SuffixTree(\"AAAAABBBB$\")\n",
    "stree.longestRepeat(\"AAAAABBBB$\")"
   ]
  },
  {
   "cell_type": "code",
   "execution_count": 104,
   "metadata": {},
   "outputs": [
    {
     "data": {
      "text/plain": [
       "'xyb'"
      ]
     },
     "execution_count": 104,
     "metadata": {},
     "output_type": "execute_result"
    }
   ],
   "source": [
    "stree = SuffixTree(\"xybxycxyb$\")\n",
    "stree.longestRepeat(\"xybxycxyb$\")"
   ]
  },
  {
   "cell_type": "markdown",
   "metadata": {},
   "source": [
    "1000 Word\n",
    "began Wed Jun  2 09:25:06 2021\n",
    "finished Wed Jun  2 09:25:06 2021"
   ]
  },
  {
   "cell_type": "code",
   "execution_count": 72,
   "metadata": {},
   "outputs": [
    {
     "data": {
      "text/plain": [
       "'AAAAAAAA'"
      ]
     },
     "execution_count": 72,
     "metadata": {},
     "output_type": "execute_result"
    }
   ],
   "source": [
    "stree = SuffixTree(\"AAAAAAAAA$\")\n",
    "stree.longestRepeat(\"AAAAAAAAA$\")"
   ]
  },
  {
   "cell_type": "code",
   "execution_count": 73,
   "metadata": {},
   "outputs": [
    {
     "data": {
      "text/plain": [
       "'GTGGGATTTTCTGCCGGCATCGACCACTAGACAGCGTTCTCGGGCTGCAGCCAATTCCATTAAC'"
      ]
     },
     "execution_count": 73,
     "metadata": {},
     "output_type": "execute_result"
    }
   ],
   "source": [
    "stree = SuffixTree(\"GTCATCACGGTAGGGAAAGAGTTCTTAGTTGTTGCCAGCCCGGCCACAATCCGATACCCCTCAGCCATTCTATGGCAACTTATTCTATGTTGGTGGGATTTTCTGCCGGCATCGACCACTAGACAGCGTTCTCGGGCTGCAGCCAATTCCATTAACCTTCACGCCAGACCAGAGATTACCTTGAAAATGGCCTAAGGTCGCCCGCCACCCGACGGATTGAACGTTTCCGTGCTACATTCCATGGTATGCGGTAATCAGGATAACTCACCCACGTCGAATAGCATGCCTATGAGCGGTGGGATTTTCTGCCGGCATCGACCACTAGACAGCGTTCTCGGGCTGCAGCCAATTCCATTAACGCCTAATCTTCTTGGAAAACTGGGATTTTCTGCCGGCATCGACCACTAGACAGCGTTCTCGGGCTGCAGCCAATTCCATTAACCCGTGTAGAGATGGCGGACTTATGTTACGCCTCTGTGAACAATATAGAGGTCCACGGCGCGTGCGATTGGACCTTGGAACTACCATAACGAAAGGACCATGATAGCTGAAGGCCGCACCTCGCGACGGAAACAACGCCTATCTGATCATGCTGGGTGATAATCGCGAAGACCAGTTCGAAGGGTTTTCTTCCAACGGTCTTAAGGACTTCCCTAGCCTGAAGGGTGGCGGCCCTATTTCGCCTATGGGTCCTGAGGGCTCGGGCTTTAGTCGTCGAAAGCAGGTATAGACAGGATCCACACACAACTAGGGTGACTTATTCGTTACGCCAGCGTGCTCTCGCCTGATATGATAATTAGGTAGTAGGTGTAATCCCGGTTGCTCAAGGGCCCATCATCATGCCTTTCCTCTGCGGAGACTCCTATTCTATATTCTTTACTGGCTTTTCATAGTCATGAGGAGTCCGTACAGGAATTGGATTGTCAGCTAAACGAGTTAGGACGCAGTTCCAATTATGTCATATCCGGACTCACACAAATGCCCAAGAGCGTTAAGGAAAGTCTACTGGTGTAGGCCACGCTTATACGTTATTGAATGGATGGGTCAATATTCGAGTACCATCGGCCCCTTAAACATTACCTATAGTATGATAAACGCGGCTATCTCTAGAACAGAGTCTGCATGCCCATGTGTAGGTTTAACGGATAAATAAAACGCGACGTGCAAGGGCCGACTTCAATTGCAATGC$\")\n",
    "#GOAAL:GGTGGGATTTTCTGCCGGCATCGACCACTAGACAGCGTTCTCGGGCTGCAGCCAATTCCATTAAC\n",
    "#       \n",
    "\n",
    "stree.longestRepeat(\"GTCATCACGGTAGGGAAAGAGTTCTTAGTTGTTGCCAGCCCGGCCACAATCCGATACCCCTCAGCCATTCTATGGCAACTTATTCTATGTTGGTGGGATTTTCTGCCGGCATCGACCACTAGACAGCGTTCTCGGGCTGCAGCCAATTCCATTAACCTTCACGCCAGACCAGAGATTACCTTGAAAATGGCCTAAGGTCGCCCGCCACCCGACGGATTGAACGTTTCCGTGCTACATTCCATGGTATGCGGTAATCAGGATAACTCACCCACGTCGAATAGCATGCCTATGAGCGGTGGGATTTTCTGCCGGCATCGACCACTAGACAGCGTTCTCGGGCTGCAGCCAATTCCATTAACGCCTAATCTTCTTGGAAAACTGGGATTTTCTGCCGGCATCGACCACTAGACAGCGTTCTCGGGCTGCAGCCAATTCCATTAACCCGTGTAGAGATGGCGGACTTATGTTACGCCTCTGTGAACAATATAGAGGTCCACGGCGCGTGCGATTGGACCTTGGAACTACCATAACGAAAGGACCATGATAGCTGAAGGCCGCACCTCGCGACGGAAACAACGCCTATCTGATCATGCTGGGTGATAATCGCGAAGACCAGTTCGAAGGGTTTTCTTCCAACGGTCTTAAGGACTTCCCTAGCCTGAAGGGTGGCGGCCCTATTTCGCCTATGGGTCCTGAGGGCTCGGGCTTTAGTCGTCGAAAGCAGGTATAGACAGGATCCACACACAACTAGGGTGACTTATTCGTTACGCCAGCGTGCTCTCGCCTGATATGATAATTAGGTAGTAGGTGTAATCCCGGTTGCTCAAGGGCCCATCATCATGCCTTTCCTCTGCGGAGACTCCTATTCTATATTCTTTACTGGCTTTTCATAGTCATGAGGAGTCCGTACAGGAATTGGATTGTCAGCTAAACGAGTTAGGACGCAGTTCCAATTATGTCATATCCGGACTCACACAAATGCCCAAGAGCGTTAAGGAAAGTCTACTGGTGTAGGCCACGCTTATACGTTATTGAATGGATGGGTCAATATTCGAGTACCATCGGCCCCTTAAACATTACCTATAGTATGATAAACGCGGCTATCTCTAGAACAGAGTCTGCATGCCCATGTGTAGGTTTAACGGATAAATAAAACGCGACGTGCAAGGGCCGACTTCAATTGCAATGC$\")\n"
   ]
  },
  {
   "cell_type": "code",
   "execution_count": 74,
   "metadata": {},
   "outputs": [
    {
     "data": {
      "text/plain": [
       "'TCCATATACGGGACAAGGGTGAGCATTTCCGGGCTTGGATAGGGGCTGCAAGAAAATATCTGGACGTAAGAA'"
      ]
     },
     "execution_count": 74,
     "metadata": {},
     "output_type": "execute_result"
    }
   ],
   "source": [
    "stree = SuffixTree(\"AATTTCCGACTTGCATGACGAGTCAGCGTTCCATCTGATCGAGTCTCCGAAGAACAAATACCCCTACTCAGTTGTGAGCCCCTTTACCGTGAGGACAGGGTCCTTGATGTCGTCTCCTAATTTGCGTTGCGGCTCAACATGTTGTACATAGTGGGGCCAGCCCCAGGGATTTTGTAATTTCTACACTCCATATACGGGACAAGGGTGAGCATTTCCGGGCTTGGATAGGGGCTGCAAGAAAATATCTGGACGTAAGAACTTAATGCCATTCCTACATCCTCGATACCTCGTCTGTCAGAGCAATGAGCTGGTTAGAGGACAGTATTGGTCGGTCATCCTCAGATTGGGGACACATCCGTCTCTATGTGCGTTCCGTTGCCTTGTGCTGACCTTGTCGAACGTACCCCATCTTCGAGCCGCACGCTCGACCAGCTAGGTCCCAGCAGTGGCCTGATAGAAAAATTACCTACGGGCCTCCCAATCGTCCTCCCAGGGTGTCGAACTCTCAAAATTCCCGCATGGTCGTGCTTCCGTACGAATTATGCAAACTCCAGAACCCGGATCTATTCCACGCTCAACGAGTCCTTCACGCTTGGTAGAATTTCATGCTCGTCTTTTGTATCCGTGTAAGTAGGAGGCCGCTGTACGGGTATCCCAGCCTTCGCGCTCTGCTGCAGGGACGTTAACACTCCGAACTTTCCATATACGGGACAAGGGTGAGCATTTCCGGGCTTGGATAGGGGCTGCAAGAAAATATCTGGACGTAAGAAGCTCTGAGGGATCCTCACGGAGTTAGATTTATTTTCCATATACGGGACAAGGGTGAGCATTTCCGGGCTTGGATAGGGGCTGCAAGAAAATATCTGGACGTAAGAAGAGTGATGTTTGGAATGCCAACTTCCATGCACGCCAATTGAGCAATCAGGAGAATCGAGTGCTGTTGACCTAGACCTTGTCAGAAGTATGAATTAACCGCGCGTGTAGGTTTGTCGCTCGACCTGCAAGGGTGCACAATCTGGACTGTCGTCGGCGAACGCTTTCATACGCCTACAAACCGCGTTGCTGGTCGAATCGATCTCACCACCGGCCTTGCAGGATTCTAATTATTCTCTCTCGGTGAGACTGCCGGCGGTCCATGGGTCTGTGTTTCGCTTCAAGCAGTGATATACTGGCGTTTTGTGACACATGGCCACGCACGCCTCTCGTTACTCCCAAT$\")\n",
    "#GOAL: TTTCCATATACGGGACAAGGGTGAGCATTTCCGGGCTTGGATAGGGGCTGCAAGAAAATATCTGGACGTAAGAAG\n",
    "#       \n",
    "stree.longestRepeat(\"AATTTCCGACTTGCATGACGAGTCAGCGTTCCATCTGATCGAGTCTCCGAAGAACAAATACCCCTACTCAGTTGTGAGCCCCTTTACCGTGAGGACAGGGTCCTTGATGTCGTCTCCTAATTTGCGTTGCGGCTCAACATGTTGTACATAGTGGGGCCAGCCCCAGGGATTTTGTAATTTCTACACTCCATATACGGGACAAGGGTGAGCATTTCCGGGCTTGGATAGGGGCTGCAAGAAAATATCTGGACGTAAGAACTTAATGCCATTCCTACATCCTCGATACCTCGTCTGTCAGAGCAATGAGCTGGTTAGAGGACAGTATTGGTCGGTCATCCTCAGATTGGGGACACATCCGTCTCTATGTGCGTTCCGTTGCCTTGTGCTGACCTTGTCGAACGTACCCCATCTTCGAGCCGCACGCTCGACCAGCTAGGTCCCAGCAGTGGCCTGATAGAAAAATTACCTACGGGCCTCCCAATCGTCCTCCCAGGGTGTCGAACTCTCAAAATTCCCGCATGGTCGTGCTTCCGTACGAATTATGCAAACTCCAGAACCCGGATCTATTCCACGCTCAACGAGTCCTTCACGCTTGGTAGAATTTCATGCTCGTCTTTTGTATCCGTGTAAGTAGGAGGCCGCTGTACGGGTATCCCAGCCTTCGCGCTCTGCTGCAGGGACGTTAACACTCCGAACTTTCCATATACGGGACAAGGGTGAGCATTTCCGGGCTTGGATAGGGGCTGCAAGAAAATATCTGGACGTAAGAAGCTCTGAGGGATCCTCACGGAGTTAGATTTATTTTCCATATACGGGACAAGGGTGAGCATTTCCGGGCTTGGATAGGGGCTGCAAGAAAATATCTGGACGTAAGAAGAGTGATGTTTGGAATGCCAACTTCCATGCACGCCAATTGAGCAATCAGGAGAATCGAGTGCTGTTGACCTAGACCTTGTCAGAAGTATGAATTAACCGCGCGTGTAGGTTTGTCGCTCGACCTGCAAGGGTGCACAATCTGGACTGTCGTCGGCGAACGCTTTCATACGCCTACAAACCGCGTTGCTGGTCGAATCGATCTCACCACCGGCCTTGCAGGATTCTAATTATTCTCTCTCGGTGAGACTGCCGGCGGTCCATGGGTCTGTGTTTCGCTTCAAGCAGTGATATACTGGCGTTTTGTGACACATGGCCACGCACGCCTCTCGTTACTCCCAAT$\")\n"
   ]
  },
  {
   "cell_type": "code",
   "execution_count": null,
   "metadata": {},
   "outputs": [],
   "source": []
  },
  {
   "cell_type": "markdown",
   "metadata": {},
   "source": []
  },
  {
   "cell_type": "markdown",
   "metadata": {},
   "source": []
  },
  {
   "cell_type": "markdown",
   "metadata": {},
   "source": []
  },
  {
   "cell_type": "markdown",
   "metadata": {},
   "source": []
  }
 ],
 "metadata": {
  "kernelspec": {
   "display_name": "UCR CS 144 Spring 2021",
   "language": "python",
   "name": "cs144_spring2021"
  },
  "language_info": {
   "codemirror_mode": {
    "name": "ipython",
    "version": 3
   },
   "file_extension": ".py",
   "mimetype": "text/x-python",
   "name": "python",
   "nbconvert_exporter": "python",
   "pygments_lexer": "ipython3",
   "version": "3.8.5"
  }
 },
 "nbformat": 4,
 "nbformat_minor": 4
}
